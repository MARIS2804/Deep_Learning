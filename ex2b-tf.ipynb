{
 "cells": [
  {
   "cell_type": "code",
   "execution_count": 1,
   "id": "5f62db67-5096-4590-80b9-0b873d6a3b89",
   "metadata": {},
   "outputs": [],
   "source": [
    "import torch\n",
    "import torch.nn as nn\n",
    "import torch.optim as optim\n",
    "import tensorflow as tf\n",
    "from tensorflow import keras\n",
    "from tensorflow.keras import layers\n",
    "from sklearn.datasets import load_iris\n",
    "from sklearn.model_selection import train_test_split\n",
    "from sklearn.preprocessing import StandardScaler, LabelEncoder\n",
    "import numpy as np\n",
    "import pandas as pd\n",
    "from tensorflow.keras.utils import to_categorical\n",
    "\n",
    "def prepare_data_iris():\n",
    "    data = load_iris()\n",
    "    X = data.data\n",
    "    y = LabelEncoder().fit_transform(data.target)\n",
    "    X_train, X_test, y_train, y_test = train_test_split(X, y, test_size=0.2, random_state=42,shuffle=True)\n",
    "    scaler = StandardScaler()\n",
    "    X_train = scaler.fit_transform(X_train)\n",
    "    X_test = scaler.transform(X_test)\n",
    "    return X_train, X_test, y_train, y_test\n",
    "\n",
    "def prepare_data_heart():\n",
    "    df = pd.read_csv(\"heart.csv\", na_values='?')\n",
    "    df.dropna(inplace=True)\n",
    "    X = df.iloc[:, :-1].values\n",
    "    y = df.iloc[:, -1].values\n",
    "    y = (y > 0).astype(int)  \n",
    "    X_train, X_test, y_train, y_test = train_test_split(X, y, test_size=0.2, random_state=42,shuffle=True)\n",
    "    scaler = StandardScaler()\n",
    "    X_train = scaler.fit_transform(X_train)\n",
    "    X_test = scaler.transform(X_test)\n",
    "    return X_train, X_test, y_train, y_test\n",
    "\n",
    "def prepare_data_mnist():\n",
    "    (X_train, y_train), (X_test, y_test) = keras.datasets.mnist.load_data()\n",
    "    X_train = X_train.reshape(-1, 28*28) / 255.0\n",
    "    X_test = X_test.reshape(-1, 28*28) / 255.0\n",
    "    return X_train, X_test, y_train, y_test"
   ]
  },
  {
   "cell_type": "code",
   "execution_count": 11,
   "id": "fc3d9352-0644-4968-ae3c-15d7616728bb",
   "metadata": {},
   "outputs": [],
   "source": [
    "def ffnn_tensorflow(X_train, X_test, y_train, y_test, input_size, num_classes):\n",
    "    model = keras.Sequential([\n",
    "        layers.Dense(64, activation='tanh', input_shape=(input_size,)),\n",
    "        layers.Dense(32, activation='tanh'),\n",
    "        layers.Dense(num_classes, activation='softmax')\n",
    "    ])   \n",
    "    model.compile(optimizer='adam', loss='sparse_categorical_crossentropy', metrics=['accuracy'])\n",
    "    model.fit(X_train, y_train, epochs=100, batch_size=32, verbose=0)\n",
    "    loss, accuracy = model.evaluate(X_test, y_test, verbose=0)\n",
    "    print(\"Model Accuracy:\",accuracy * 100,\"%\")\n",
    "    print(\"Loss= \",loss)\n",
    "    print()"
   ]
  },
  {
   "cell_type": "code",
   "execution_count": 13,
   "id": "e9bb9f87-a1dc-424d-ac21-2ea11128502d",
   "metadata": {},
   "outputs": [
    {
     "name": "stdout",
     "output_type": "stream",
     "text": [
      "\n",
      "Running FFNN on Iris dataset:\n",
      "Using TensorFlow:\n",
      "Input size= 4\n",
      "No. of classes= 3\n"
     ]
    },
    {
     "name": "stderr",
     "output_type": "stream",
     "text": [
      "C:\\Program Files\\Python\\lib\\site-packages\\keras\\src\\layers\\core\\dense.py:87: UserWarning: Do not pass an `input_shape`/`input_dim` argument to a layer. When using Sequential models, prefer using an `Input(shape)` object as the first layer in the model instead.\n",
      "  super().__init__(activity_regularizer=activity_regularizer, **kwargs)\n"
     ]
    },
    {
     "name": "stdout",
     "output_type": "stream",
     "text": [
      "Model Accuracy: 100.0 %\n",
      "Loss=  0.04237275943160057\n",
      "\n",
      "\n",
      "\n",
      "Running FFNN on Heart Disease dataset:\n",
      "Using TensorFlow:\n",
      "Input size= 13\n",
      "No. of classes= 2\n"
     ]
    },
    {
     "name": "stderr",
     "output_type": "stream",
     "text": [
      "C:\\Program Files\\Python\\lib\\site-packages\\keras\\src\\layers\\core\\dense.py:87: UserWarning: Do not pass an `input_shape`/`input_dim` argument to a layer. When using Sequential models, prefer using an `Input(shape)` object as the first layer in the model instead.\n",
      "  super().__init__(activity_regularizer=activity_regularizer, **kwargs)\n"
     ]
    },
    {
     "name": "stdout",
     "output_type": "stream",
     "text": [
      "Model Accuracy: 81.4814805984497 %\n",
      "Loss=  0.5739578604698181\n",
      "\n",
      "\n",
      "\n",
      "Running FFNN on MNIST dataset:\n",
      "Using TensorFlow:\n",
      "Input size= 784\n",
      "No. of classes= 10\n",
      "Model Accuracy: 97.25000262260437 %\n",
      "Loss=  0.19968192279338837\n",
      "\n",
      "\n"
     ]
    }
   ],
   "source": [
    "for dataset, prepare_function, num_classes, input_size in zip(\n",
    "    ['Iris', 'Heart Disease', 'MNIST'],\n",
    "    [prepare_data_iris, prepare_data_heart, prepare_data_mnist],\n",
    "    [3, 2, 10],\n",
    "    [4, 13, 28*28]\n",
    "):\n",
    "    print(f\"\\nRunning FFNN on {dataset} dataset:\")\n",
    "    X_train, X_test, y_train, y_test = prepare_function()\n",
    "    #print(\"Using PyTorch:\")\n",
    "    #ffnn_pytorch(X_train, X_test, y_train, y_test, input_size, num_classes)\n",
    "    print(\"Using TensorFlow:\")\n",
    "    print(\"Input size=\",input_size)\n",
    "    print(\"No. of classes=\",num_classes)\n",
    "    ffnn_tensorflow(X_train, X_test, y_train, y_test, input_size, num_classes)\n",
    "    print()"
   ]
  },
  {
   "cell_type": "code",
   "execution_count": null,
   "id": "db1649b8-9aaf-40da-a691-fbae47ba5e5d",
   "metadata": {},
   "outputs": [],
   "source": []
  }
 ],
 "metadata": {
  "kernelspec": {
   "display_name": "Python 3 (ipykernel)",
   "language": "python",
   "name": "python3"
  },
  "language_info": {
   "codemirror_mode": {
    "name": "ipython",
    "version": 3
   },
   "file_extension": ".py",
   "mimetype": "text/x-python",
   "name": "python",
   "nbconvert_exporter": "python",
   "pygments_lexer": "ipython3",
   "version": "3.10.7"
  }
 },
 "nbformat": 4,
 "nbformat_minor": 5
}
