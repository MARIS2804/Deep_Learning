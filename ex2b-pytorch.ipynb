{
 "cells": [
  {
   "cell_type": "code",
   "execution_count": 4,
   "id": "2c6317dc-8d50-48f7-90ec-db8648d24e6e",
   "metadata": {},
   "outputs": [],
   "source": [
    "import torch\n",
    "import torch.nn as nn\n",
    "import torch.optim as optim\n",
    "import tensorflow as tf\n",
    "from tensorflow import keras\n",
    "from tensorflow.keras import layers\n",
    "from sklearn.datasets import load_iris\n",
    "from sklearn.model_selection import train_test_split\n",
    "from sklearn.preprocessing import StandardScaler, LabelEncoder\n",
    "import numpy as np\n",
    "import pandas as pd\n",
    "from tensorflow.keras.utils import to_categorical\n",
    "\n",
    "def prepare_data_iris():\n",
    "    data = load_iris()\n",
    "    X = data.data\n",
    "    y = LabelEncoder().fit_transform(data.target)\n",
    "    X_train, X_test, y_train, y_test = train_test_split(X, y, test_size=0.2, random_state=42,shuffle=True)\n",
    "    # scaler = StandardScaler()\n",
    "    # X_train = scaler.fit_transform(X_train)\n",
    "    # X_test = scaler.transform(X_test)\n",
    "    return X_train, X_test, y_train, y_test\n",
    "\n",
    "def prepare_data_heart():\n",
    "    df = pd.read_csv(\"heart.csv\", na_values='?')\n",
    "    df.dropna(inplace=True)\n",
    "    X = df.iloc[:, :-1].values\n",
    "    y = df.iloc[:, -1].values\n",
    "    y = (y > 0).astype(int)  \n",
    "    X_train, X_test, y_train, y_test = train_test_split(X, y, test_size=0.2, random_state=42,shuffle=True)\n",
    "    # scaler = StandardScaler()\n",
    "    # X_train = scaler.fit_transform(X_train)\n",
    "    # X_test = scaler.transform(X_test)\n",
    "    return X_train, X_test, y_train, y_test\n",
    "\n",
    "def prepare_data_mnist():\n",
    "    (X_train, y_train), (X_test, y_test) = keras.datasets.mnist.load_data()\n",
    "    X_train = X_train.reshape(-1, 28*28) / 255.0\n",
    "    X_test = X_test.reshape(-1, 28*28) / 255.0\n",
    "    return X_train, X_test, y_train, y_test"
   ]
  },
  {
   "cell_type": "code",
   "execution_count": 6,
   "id": "10fc3992-e60a-49f7-a338-8163f5ec68ae",
   "metadata": {},
   "outputs": [],
   "source": [
    "class FFNN(nn.Module):\n",
    "        def __init__(self):\n",
    "            super(FFNN, self).__init__()\n",
    "            self.fc1 = nn.Linear(input_size, 64)\n",
    "            self.fc2 = nn.Linear(64, 32)\n",
    "            self.fc3 = nn.Linear(32, num_classes)\n",
    "            self.tanh = nn.Tanh()\n",
    "            self.softmax = nn.Softmax(dim=1)\n",
    "        \n",
    "        def forward(self, x):\n",
    "            x = self.tanh(self.fc1(x))\n",
    "            x = self.tanh(self.fc2(x))\n",
    "            x = self.fc3(x)\n",
    "            return self.softmax(x)\n",
    "def ffnn_pytorch(X_train, X_test, y_train, y_test, input_size, num_classes):    \n",
    "    model = FFNN()\n",
    "    criterion = nn.CrossEntropyLoss()\n",
    "    optimizer = optim.Adam(model.parameters(), lr=0.01)\n",
    "    \n",
    "    X_train_tensor = torch.tensor(X_train, dtype=torch.float32)\n",
    "    y_train_tensor = torch.tensor(y_train, dtype=torch.long)\n",
    "    X_test_tensor = torch.tensor(X_test, dtype=torch.float32)\n",
    "    y_test_tensor = torch.tensor(y_test, dtype=torch.long)\n",
    "    \n",
    "    for epoch in range(100):\n",
    "        optimizer.zero_grad()\n",
    "        outputs = model(X_train_tensor)\n",
    "        loss = criterion(outputs, y_train_tensor)\n",
    "        loss.backward()\n",
    "        optimizer.step()\n",
    "    \n",
    "    with torch.no_grad():\n",
    "        test_outputs = model(X_test_tensor)\n",
    "        _, predicted = torch.max(test_outputs, 1)\n",
    "        accuracy = (predicted == y_test_tensor).float().mean()\n",
    "        print(f'PyTorch Model Accuracy: {accuracy.item() * 100:.2f}%')"
   ]
  },
  {
   "cell_type": "code",
   "execution_count": 7,
   "id": "df2c8f33-4b72-4d31-b1db-f228ec2aa99b",
   "metadata": {
    "scrolled": true
   },
   "outputs": [
    {
     "name": "stdout",
     "output_type": "stream",
     "text": [
      "\n",
      "Running FFNN on Iris dataset:\n",
      "Using PyTorch:\n",
      "PyTorch Model Accuracy: 96.67%\n",
      "\n",
      "Running FFNN on Heart Disease dataset:\n",
      "Using PyTorch:\n",
      "PyTorch Model Accuracy: 74.07%\n",
      "\n",
      "Running FFNN on MNIST dataset:\n",
      "Using PyTorch:\n",
      "PyTorch Model Accuracy: 95.59%\n"
     ]
    }
   ],
   "source": [
    "for dataset, prepare_function, num_classes, input_size in zip(\n",
    "    ['Iris', 'Heart Disease', 'MNIST'],\n",
    "    [prepare_data_iris, prepare_data_heart, prepare_data_mnist],\n",
    "    [3, 2, 10],\n",
    "    [4, 13, 28*28]\n",
    "):\n",
    "    print(f\"\\nRunning FFNN on {dataset} dataset:\")\n",
    "    X_train, X_test, y_train, y_test = prepare_function()\n",
    "    print(\"Using PyTorch:\")\n",
    "    ffnn_pytorch(X_train, X_test, y_train, y_test, input_size, num_classes)"
   ]
  },
  {
   "cell_type": "code",
   "execution_count": null,
   "id": "3a4f3750-08e9-426f-9eb6-7aed8ebbe4cf",
   "metadata": {},
   "outputs": [],
   "source": []
  }
 ],
 "metadata": {
  "kernelspec": {
   "display_name": "Python 3 (ipykernel)",
   "language": "python",
   "name": "python3"
  },
  "language_info": {
   "codemirror_mode": {
    "name": "ipython",
    "version": 3
   },
   "file_extension": ".py",
   "mimetype": "text/x-python",
   "name": "python",
   "nbconvert_exporter": "python",
   "pygments_lexer": "ipython3",
   "version": "3.10.7"
  }
 },
 "nbformat": 4,
 "nbformat_minor": 5
}
